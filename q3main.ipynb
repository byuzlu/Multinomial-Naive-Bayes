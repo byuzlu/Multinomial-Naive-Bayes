{
  "nbformat": 4,
  "nbformat_minor": 0,
  "metadata": {
    "colab": {
      "provenance": [],
      "gpuType": "T4"
    },
    "kernelspec": {
      "name": "python3",
      "display_name": "Python 3"
    },
    "language_info": {
      "name": "python"
    }
  },
  "cells": [
    {
      "cell_type": "code",
      "execution_count": 3,
      "metadata": {
        "colab": {
          "base_uri": "https://localhost:8080/"
        },
        "id": "Nx7EKygFdJYM",
        "outputId": "8c60c07f-78fa-4454-f930-2fa98bf9081b"
      },
      "outputs": [
        {
          "output_type": "stream",
          "name": "stdout",
          "text": [
            "/content\n",
            "sample_data\n"
          ]
        }
      ],
      "source": [
        "!pwd\n",
        "!ls"
      ]
    },
    {
      "cell_type": "code",
      "source": [
        "from google.colab import drive\n",
        "drive.mount(\"/content/gdrive/\")"
      ],
      "metadata": {
        "colab": {
          "base_uri": "https://localhost:8080/"
        },
        "id": "7h222J_3dVcs",
        "outputId": "d490841c-4ab1-4247-c2a2-0ef222c47140"
      },
      "execution_count": 4,
      "outputs": [
        {
          "output_type": "stream",
          "name": "stdout",
          "text": [
            "Mounted at /content/gdrive/\n"
          ]
        }
      ]
    },
    {
      "cell_type": "code",
      "source": [
        "!ls \"/content/gdrive/MyDrive/Dataset\""
      ],
      "metadata": {
        "colab": {
          "base_uri": "https://localhost:8080/"
        },
        "id": "tBJgo4LgdV7s",
        "outputId": "cbb2852e-9a62-4ef6-8010-b62b71eb33fb"
      },
      "execution_count": 5,
      "outputs": [
        {
          "output_type": "stream",
          "name": "stdout",
          "text": [
            "X_test.csv  X_train.csv  y_test.csv  y_train.csv\n"
          ]
        }
      ]
    },
    {
      "cell_type": "code",
      "source": [
        "import os\n",
        "import numpy as np\n",
        "import pandas as pd\n",
        "import matplotlib.pyplot as plt\n",
        "from tabulate import tabulate\n",
        "from google.colab import data_table\n",
        "import math"
      ],
      "metadata": {
        "id": "U-7yweWHdV-Q"
      },
      "execution_count": 6,
      "outputs": []
    },
    {
      "cell_type": "code",
      "source": [
        "#Datasets are pulled from google drive and dataframes are constructed\n",
        "dataset_dir = '/content/gdrive/MyDrive/Dataset'\n",
        "csv_path_x_test = os.path.join(dataset_dir, 'X_test.csv')\n",
        "csv_path_y_test = os.path.join(dataset_dir, 'y_test.csv')\n",
        "csv_path_x_train = os.path.join(dataset_dir, 'X_train.csv')\n",
        "csv_path_y_train = os.path.join(dataset_dir, 'y_train.csv')\n",
        "df_x_test = pd.read_csv(csv_path_x_test, header=0, delimiter=\" \")\n",
        "df_y_test = pd.read_csv(csv_path_y_test, header=None)\n",
        "df_x_train = pd.read_csv(csv_path_x_train, header=0,delimiter=\" \")\n",
        "df_y_train = pd.read_csv(csv_path_y_train, header=None)\n",
        "x_test = df_x_test.values\n",
        "y_test = df_y_test.values\n",
        "x_train = df_x_train.values\n",
        "y_train = df_y_train.values"
      ],
      "metadata": {
        "id": "ZOOhC4--dWDT"
      },
      "execution_count": 8,
      "outputs": []
    },
    {
      "cell_type": "markdown",
      "source": [
        "# Question 3.1\n"
      ],
      "metadata": {
        "id": "bg1P2SNzByKS"
      }
    },
    {
      "cell_type": "markdown",
      "source": [
        "1.\n"
      ],
      "metadata": {
        "id": "GYdU2bPxB62L"
      }
    },
    {
      "cell_type": "code",
      "source": [
        "def y_valuedist(data):\n",
        "  #the function takes a label dataframe and returns the label (y value) distribution array\n",
        "  class_zero_num = 0\n",
        "  class_one_num = 0\n",
        "  class_two_num = 0\n",
        "  class_three_num = 0\n",
        "  class_four_num = 0\n",
        "  for i in data:\n",
        "    if i[0] == 0:\n",
        "      class_zero_num +=1\n",
        "    elif i[0] == 1:\n",
        "      class_one_num +=1\n",
        "    elif i[0] == 2:\n",
        "      class_two_num +=1\n",
        "    elif i[0] == 3:\n",
        "      class_three_num +=1\n",
        "    elif i[0] == 4:\n",
        "      class_four_num +=1\n",
        "  return np.array([class_zero_num,class_one_num,class_two_num,class_three_num,class_four_num])"
      ],
      "metadata": {
        "id": "Q6UbEK9bFQOZ"
      },
      "execution_count": 9,
      "outputs": []
    },
    {
      "cell_type": "code",
      "source": [
        "y_test_dist = y_valuedist(y_test)\n",
        "y_test_dist\n"
      ],
      "metadata": {
        "colab": {
          "base_uri": "https://localhost:8080/"
        },
        "id": "dJU9tr34GkHt",
        "outputId": "c9866bc0-e711-46cc-aad6-c002ca1abac2"
      },
      "execution_count": 10,
      "outputs": [
        {
          "output_type": "execute_result",
          "data": {
            "text/plain": [
              "array([135, 102,  98, 134,  88])"
            ]
          },
          "metadata": {},
          "execution_count": 10
        }
      ]
    },
    {
      "cell_type": "code",
      "source": [
        "y_train_dist = y_valuedist(y_train)\n",
        "y_train_dist"
      ],
      "metadata": {
        "colab": {
          "base_uri": "https://localhost:8080/"
        },
        "id": "EekWy6U1HIyX",
        "outputId": "c7b55b99-b778-4954-a603-d910a6d14a26"
      },
      "execution_count": 11,
      "outputs": [
        {
          "output_type": "execute_result",
          "data": {
            "text/plain": [
              "array([375, 284, 319, 377, 313])"
            ]
          },
          "metadata": {},
          "execution_count": 11
        }
      ]
    },
    {
      "cell_type": "markdown",
      "source": [
        "Find percentage values for y_test and y_train dataset;\n"
      ],
      "metadata": {
        "id": "zv3Zrie4HX8i"
      }
    },
    {
      "cell_type": "code",
      "source": [
        "y_test_perc = y_test_dist/y_test_dist.sum()*100\n",
        "y_test_perc"
      ],
      "metadata": {
        "colab": {
          "base_uri": "https://localhost:8080/"
        },
        "id": "sEh_3wDUHXoP",
        "outputId": "191ccb4a-a6a7-4b42-92e4-fa000569d725"
      },
      "execution_count": 12,
      "outputs": [
        {
          "output_type": "execute_result",
          "data": {
            "text/plain": [
              "array([24.23698384, 18.31238779, 17.59425494, 24.05745063, 15.7989228 ])"
            ]
          },
          "metadata": {},
          "execution_count": 12
        }
      ]
    },
    {
      "cell_type": "code",
      "source": [
        "y_train_perc = y_train_dist/y_train_dist.sum()*100\n",
        "y_train_perc"
      ],
      "metadata": {
        "colab": {
          "base_uri": "https://localhost:8080/"
        },
        "id": "Dmu_xZvmMlzt",
        "outputId": "577916b8-7c6d-4633-bb87-853f061d5153"
      },
      "execution_count": 13,
      "outputs": [
        {
          "output_type": "execute_result",
          "data": {
            "text/plain": [
              "array([22.48201439, 17.0263789 , 19.12470024, 22.60191847, 18.76498801])"
            ]
          },
          "metadata": {},
          "execution_count": 13
        }
      ]
    },
    {
      "cell_type": "markdown",
      "source": [
        "Show them on the table;\n"
      ],
      "metadata": {
        "id": "9SCUGsCYL8dh"
      }
    },
    {
      "cell_type": "code",
      "source": [
        "y_test_row = np.concatenate((np.array([\"y_test\"]),y_test_perc),axis=0)\n",
        "y_train_row = np.concatenate((np.array([\"y_train\"]),y_train_perc),axis=0)\n",
        "table = np.vstack((y_test_row,y_train_row))\n",
        "heading = [\"dataset\",\"0\",\"1\",\"2\",\"3\",\"4\"]\n",
        "print(tabulate(table,heading, tablefmt=\"fancy_grid\"))"
      ],
      "metadata": {
        "colab": {
          "base_uri": "https://localhost:8080/"
        },
        "id": "VvKcXkezMQnH",
        "outputId": "6bb22fc2-da22-4620-f596-d61b5260bf61"
      },
      "execution_count": 14,
      "outputs": [
        {
          "output_type": "stream",
          "name": "stdout",
          "text": [
            "╒═══════════╤════════╤═════════╤═════════╤═════════╤═════════╕\n",
            "│ dataset   │      0 │       1 │       2 │       3 │       4 │\n",
            "╞═══════════╪════════╪═════════╪═════════╪═════════╪═════════╡\n",
            "│ y_test    │ 24.237 │ 18.3124 │ 17.5943 │ 24.0575 │ 15.7989 │\n",
            "├───────────┼────────┼─────────┼─────────┼─────────┼─────────┤\n",
            "│ y_train   │ 22.482 │ 17.0264 │ 19.1247 │ 22.6019 │ 18.765  │\n",
            "╘═══════════╧════════╧═════════╧═════════╧═════════╧═════════╛\n"
          ]
        }
      ]
    },
    {
      "cell_type": "markdown",
      "source": [
        "Draw a pie chart;\n"
      ],
      "metadata": {
        "id": "FkZX6ZPUTknw"
      }
    },
    {
      "cell_type": "code",
      "source": [
        "value1 = y_test_perc\n",
        "label1 = [\"0\",\"1\",\"2\",\"3\",\"4\"]\n",
        "value2 = y_train_perc\n",
        "label2 = [\"0\",\"1\",\"2\",\"3\",\"4\"]\n",
        "# Pie chart\n",
        "plt.subplot(1,2,1)\n",
        "plt.title(\"Y Test Data Distribution\")\n",
        "plt.pie(value1, labels = label1, autopct = '%1.3f%%')\n",
        "plt.subplot(1,2,2)\n",
        "plt.title(\"Y Train Data Distribution\")\n",
        "plt.pie(value2, labels = label2, autopct = '%1.3f%%')\n",
        "plt.show()"
      ],
      "metadata": {
        "colab": {
          "base_uri": "https://localhost:8080/",
          "height": 284
        },
        "id": "Q-Rm0Nl9To5o",
        "outputId": "80eba9f8-af7b-479b-9025-1cc56ee3a5c3"
      },
      "execution_count": 15,
      "outputs": [
        {
          "output_type": "display_data",
          "data": {
            "text/plain": [
              "<Figure size 640x480 with 2 Axes>"
            ],
            "image/png": "[encoded data removed]"
          },
          "metadata": {}
        }
      ]
    },
    {
      "cell_type": "markdown",
      "source": [
        "2."
      ],
      "metadata": {
        "id": "CuzLyplOZwN0"
      }
    },
    {
      "cell_type": "markdown",
      "source": [
        "The prior probabilities are as following;\n"
      ],
      "metadata": {
        "id": "BUnJ1K1oZojE"
      }
    },
    {
      "cell_type": "code",
      "source": [
        "y_train_row = np.concatenate((np.array([\"y_train\"]),y_train_perc),axis=0)\n",
        "table = [y_train_row,]\n",
        "heading = [\"dataset\",\"0\",\"1\",\"2\",\"3\",\"4\"]\n",
        "print(tabulate(table,heading, tablefmt=\"fancy_grid\"))"
      ],
      "metadata": {
        "colab": {
          "base_uri": "https://localhost:8080/"
        },
        "id": "EfeZS54aZkSN",
        "outputId": "993db547-e00e-4b7d-a256-bc0b27d4a027"
      },
      "execution_count": 16,
      "outputs": [
        {
          "output_type": "stream",
          "name": "stdout",
          "text": [
            "╒═══════════╤════════╤═════════╤═════════╤═════════╤════════╕\n",
            "│ dataset   │      0 │       1 │       2 │       3 │      4 │\n",
            "╞═══════════╪════════╪═════════╪═════════╪═════════╪════════╡\n",
            "│ y_train   │ 22.482 │ 17.0264 │ 19.1247 │ 22.6019 │ 18.765 │\n",
            "╘═══════════╧════════╧═════════╧═════════╧═════════╧════════╛\n"
          ]
        }
      ]
    },
    {
      "cell_type": "markdown",
      "source": [
        "Because, prior probability is an estimate for the class probability from the training set (i.e., (prior for a given class) = (number of samples in the class) / (total number of samples))."
      ],
      "metadata": {
        "id": "tZ1NG1lOaSHb"
      }
    },
    {
      "cell_type": "markdown",
      "source": [
        "3."
      ],
      "metadata": {
        "id": "M7akwRGXaw5c"
      }
    },
    {
      "cell_type": "markdown",
      "source": [
        "In my opinion, our trainig set does not seem skewed in both test and data set. Because they are distributed around 20% which is the average number in a 5 class model."
      ],
      "metadata": {
        "id": "TOaq89Lca8H3"
      }
    },
    {
      "cell_type": "markdown",
      "source": [
        "Having an unbalanced dataset would create a lot of problem when modeling. Firstly, having lesser training data means that this label is not taught to the model sufficiently. Secondly, because the distribution of training dataset affects our prior probability, while doing a-posteriori estimation, it will affect the result of estimation."
      ],
      "metadata": {
        "id": "drNOWzlHbqB5"
      }
    },
    {
      "cell_type": "markdown",
      "source": [
        "4."
      ],
      "metadata": {
        "id": "kveizuIJddT6"
      }
    },
    {
      "cell_type": "markdown",
      "source": [
        "According to the question, log probabilities are asked:"
      ],
      "metadata": {
        "id": "e5Tvc82dVvHv"
      }
    },
    {
      "cell_type": "markdown",
      "source": [
        "Let's start with finding an array of label document(y_train) having 1 if label is tech and 0 if not."
      ],
      "metadata": {
        "id": "mIbfRSple7_h"
      }
    },
    {
      "cell_type": "code",
      "source": [
        "tech_array = y_train == np.full((1668,1),4)"
      ],
      "metadata": {
        "id": "iWKLqtq-dKRB"
      },
      "execution_count": 17,
      "outputs": []
    },
    {
      "cell_type": "code",
      "source": [
        "df_x_train[tech_array][\"alien\"]"
      ],
      "metadata": {
        "colab": {
          "base_uri": "https://localhost:8080/"
        },
        "id": "t2D5avaTgOa3",
        "outputId": "b1d77d85-c8f5-41e3-8712-cd380b5d866e"
      },
      "execution_count": 18,
      "outputs": [
        {
          "output_type": "execute_result",
          "data": {
            "text/plain": [
              "0       0\n",
              "10      0\n",
              "11      0\n",
              "25      0\n",
              "27      0\n",
              "       ..\n",
              "1634    0\n",
              "1635    0\n",
              "1646    0\n",
              "1663    0\n",
              "1665    0\n",
              "Name: alien, Length: 313, dtype: int64"
            ]
          },
          "metadata": {},
          "execution_count": 18
        }
      ]
    },
    {
      "cell_type": "code",
      "source": [
        "df_x_train[tech_array][\"thunder\"]"
      ],
      "metadata": {
        "colab": {
          "base_uri": "https://localhost:8080/"
        },
        "id": "kbpuxltdp3kX",
        "outputId": "0babed91-c1a3-4883-8405-e33186b25747"
      },
      "execution_count": 19,
      "outputs": [
        {
          "output_type": "execute_result",
          "data": {
            "text/plain": [
              "0       0\n",
              "10      0\n",
              "11      0\n",
              "25      0\n",
              "27      0\n",
              "       ..\n",
              "1634    0\n",
              "1635    0\n",
              "1646    0\n",
              "1663    0\n",
              "1665    0\n",
              "Name: thunder, Length: 313, dtype: int64"
            ]
          },
          "metadata": {},
          "execution_count": 19
        }
      ]
    },
    {
      "cell_type": "code",
      "source": [
        "sum(df_x_train[tech_array][\"alien\"])"
      ],
      "metadata": {
        "colab": {
          "base_uri": "https://localhost:8080/"
        },
        "id": "Ut-D6sysjOzv",
        "outputId": "82f84b34-26f6-41a0-f4b3-06935a358819"
      },
      "execution_count": 20,
      "outputs": [
        {
          "output_type": "execute_result",
          "data": {
            "text/plain": [
              "3"
            ]
          },
          "metadata": {},
          "execution_count": 20
        }
      ]
    },
    {
      "cell_type": "code",
      "source": [
        "sum(df_x_train[tech_array][\"thunder\"])"
      ],
      "metadata": {
        "colab": {
          "base_uri": "https://localhost:8080/"
        },
        "id": "F3PcWr9yjUNI",
        "outputId": "5a9942c8-87e3-483a-8b41-ee16ea6a5986"
      },
      "execution_count": 21,
      "outputs": [
        {
          "output_type": "execute_result",
          "data": {
            "text/plain": [
              "0"
            ]
          },
          "metadata": {},
          "execution_count": 21
        }
      ]
    },
    {
      "cell_type": "markdown",
      "source": [
        "The \"alien\" log ratio is;"
      ],
      "metadata": {
        "id": "oQ2wnIfdjeCa"
      }
    },
    {
      "cell_type": "code",
      "source": [
        "math.log((sum(df_x_train[tech_array][\"alien\"])*sum(np.sum(df_x_train[tech_array])))/0.18765)"
      ],
      "metadata": {
        "colab": {
          "base_uri": "https://localhost:8080/"
        },
        "id": "Py5MFuecjl46",
        "outputId": "1211fb90-7391-40f8-8aad-de49140b1deb"
      },
      "execution_count": 22,
      "outputs": [
        {
          "output_type": "execute_result",
          "data": {
            "text/plain": [
              "14.041789078213778"
            ]
          },
          "metadata": {},
          "execution_count": 22
        }
      ]
    },
    {
      "cell_type": "markdown",
      "source": [
        "The \"thunder\" log ratio is;"
      ],
      "metadata": {
        "id": "pkX-bjckjd4w"
      }
    },
    {
      "cell_type": "code",
      "source": [
        "try:\n",
        "  math.log((sum(df_x_train[tech_array][\"thunder\"])*sum(np.sum(df_x_train[tech_array])))/0.18765)\n",
        "except:\n",
        "  print(-1e+12)\n"
      ],
      "metadata": {
        "colab": {
          "base_uri": "https://localhost:8080/"
        },
        "id": "L464JB7vj_Jy",
        "outputId": "c9826457-7c79-4099-b158-9c1e8cd6e248"
      },
      "execution_count": 23,
      "outputs": [
        {
          "output_type": "stream",
          "name": "stdout",
          "text": [
            "-1000000000000.0\n"
          ]
        }
      ]
    },
    {
      "cell_type": "code",
      "source": [
        "sum(np.sum(df_x_train[tech_array]))"
      ],
      "metadata": {
        "colab": {
          "base_uri": "https://localhost:8080/"
        },
        "id": "vgmODACJ8YMw",
        "outputId": "3894daeb-59bc-4b35-9183-1c95f6871ffb"
      },
      "execution_count": 24,
      "outputs": [
        {
          "output_type": "execute_result",
          "data": {
            "text/plain": [
              "78433"
            ]
          },
          "metadata": {},
          "execution_count": 24
        }
      ]
    },
    {
      "cell_type": "markdown",
      "source": [
        "Then Log ratio of alien;"
      ],
      "metadata": {
        "id": "TnXEeovd-yNv"
      }
    },
    {
      "cell_type": "code",
      "source": [
        "len(df_x_train[tech_array])"
      ],
      "metadata": {
        "id": "8byTdaZE36f6",
        "colab": {
          "base_uri": "https://localhost:8080/"
        },
        "outputId": "dd961e5f-d982-41d5-e6a5-1a1a82175d79"
      },
      "execution_count": 25,
      "outputs": [
        {
          "output_type": "execute_result",
          "data": {
            "text/plain": [
              "313"
            ]
          },
          "metadata": {},
          "execution_count": 25
        }
      ]
    },
    {
      "cell_type": "code",
      "source": [
        "len(df_x_train)"
      ],
      "metadata": {
        "id": "xz5jQ40b4Fzi",
        "colab": {
          "base_uri": "https://localhost:8080/"
        },
        "outputId": "249538d6-dc57-4e55-8940-b9343584d634"
      },
      "execution_count": 26,
      "outputs": [
        {
          "output_type": "execute_result",
          "data": {
            "text/plain": [
              "1668"
            ]
          },
          "metadata": {},
          "execution_count": 26
        }
      ]
    },
    {
      "cell_type": "markdown",
      "source": [
        "As it was found earlier it is %18.765"
      ],
      "metadata": {
        "id": "Z78sXE--5pNQ"
      }
    },
    {
      "cell_type": "markdown",
      "source": [
        "# Question 3.2"
      ],
      "metadata": {
        "id": "bhzTFnxX_yV_"
      }
    },
    {
      "cell_type": "markdown",
      "source": [
        "By using the pieces of information indicated at the end of the question 3.1, we can construct a Multinomial Bayes Model.In this question, I will not use smoothing operator."
      ],
      "metadata": {
        "id": "pWbIJJSY_33q"
      }
    },
    {
      "cell_type": "markdown",
      "source": [
        "Starting with prior probability of documentation type"
      ],
      "metadata": {
        "id": "WL0pFb_D1V3n"
      }
    },
    {
      "cell_type": "code",
      "source": [
        "def calc_prior(label):\n",
        "  # Calculate prior of the given label\n",
        "  # gets Y and label as params, returns the prior\n",
        "    size = df_y_train.size\n",
        "    if label == 0:\n",
        "      return np.count_nonzero(df_y_train==0)/size\n",
        "    elif label == 1:\n",
        "      return np.count_nonzero(df_y_train==1)/size\n",
        "    elif label == 2:\n",
        "      return np.count_nonzero(df_y_train==2)/size\n",
        "    elif label == 3:\n",
        "      return np.count_nonzero(df_y_train==3)/size\n",
        "    else:\n",
        "      return np.count_nonzero(df_y_train==4)/size"
      ],
      "metadata": {
        "id": "tO0D6Y331VSc"
      },
      "execution_count": 27,
      "outputs": []
    },
    {
      "cell_type": "markdown",
      "source": [
        "Going on with the likelihood calculation;"
      ],
      "metadata": {
        "id": "RB9Daa1A4p2L"
      }
    },
    {
      "cell_type": "code",
      "source": [
        "def calc_likelihood(xtrain,ytrain):\n",
        "    #the function finds the likelihood probability estimators of multinomial and bernoulli with given dataset (features and labels)\n",
        "\n",
        "    #these are lists of the sums of every word given the label.\n",
        "    zero_wordsums = [] #index zero gives the total number of \"ad\" occurences in files labeled zero\n",
        "    one_wordsums = []\n",
        "    two_wordsums = []\n",
        "    three_wordsums = []\n",
        "    four_wordsums = []\n",
        "    #these are the sums of every word in given label.\n",
        "    zero_totalsum = 0 #index zero gives the sum of all words in files labeled zero\n",
        "    one_totalsum = 0\n",
        "    two_totalsum = 0\n",
        "    three_totalsum = 0\n",
        "    four_totalsum = 0\n",
        "    #count of occurences other than zero in given label\n",
        "    zero_bernoulli = [] #index zero gives the occurences of \"ad\" word in files labeled zero\n",
        "    one_bernoulli = []\n",
        "    two_bernoulli = []\n",
        "    three_bernoulli = []\n",
        "    four_bernoulli =  []\n",
        "\n",
        "    data = xtrain.copy()\n",
        "    data[\"filelabel\"] = y_train\n",
        "    lab_zero = data[data[\"filelabel\"]==0].values.transpose()[:-1]\n",
        "    lab_one = data[data[\"filelabel\"]==1].values.transpose()[:-1]\n",
        "    lab_two = data[data[\"filelabel\"]==2].values.transpose()[:-1]\n",
        "    lab_three = data[data[\"filelabel\"]==3].values.transpose()[:-1]\n",
        "    lab_four = data[data[\"filelabel\"]==4].values.transpose()[:-1]\n",
        "\n",
        "    for word in lab_zero:\n",
        "        total = word.sum()\n",
        "        zero_wordsums.append(total)\n",
        "        zero_totalsum += total\n",
        "        zero_bernoulli.append(np.count_nonzero(word))\n",
        "    for word in lab_one:\n",
        "        total = word.sum()\n",
        "        one_wordsums.append(total)\n",
        "        one_totalsum += total\n",
        "        one_bernoulli.append(np.count_nonzero(word))\n",
        "    for word in lab_two:\n",
        "        total = word.sum()\n",
        "        two_wordsums.append(total)\n",
        "        two_totalsum += total\n",
        "        two_bernoulli.append(np.count_nonzero(word))\n",
        "    for word in lab_three:\n",
        "        total = word.sum()\n",
        "        three_wordsums.append(total)\n",
        "        three_totalsum += total\n",
        "        three_bernoulli.append(np.count_nonzero(word))\n",
        "    for word in lab_four:\n",
        "        total = word.sum()\n",
        "        four_wordsums.append(total)\n",
        "        four_totalsum += total\n",
        "        four_bernoulli.append(np.count_nonzero(word))\n",
        "\n",
        "    return zero_wordsums, one_wordsums, two_wordsums, three_wordsums, four_wordsums, zero_totalsum, one_totalsum, two_totalsum, three_totalsum, four_totalsum,zero_bernoulli, one_bernoulli, two_bernoulli, three_bernoulli, four_bernoulli\n",
        "zero_wordsums, one_wordsums, two_wordsums, three_wordsums, four_wordsums, zero_totalsum, one_totalsum, two_totalsum, three_totalsum, four_totalsum,zero_bernoulli, one_bernoulli, two_bernoulli, three_bernoulli, four_bernoulli = calc_likelihood(df_x_train,df_y_train)\n"
      ],
      "metadata": {
        "id": "eUBMriKQ5xMc"
      },
      "execution_count": 28,
      "outputs": []
    },
    {
      "cell_type": "markdown",
      "source": [
        "Let's predict by using the estimators that we created;"
      ],
      "metadata": {
        "id": "6uWiEQywCVHN"
      }
    },
    {
      "cell_type": "code",
      "source": [
        "def predict(test_df):\n",
        "    #this function takes a test dataframe and calcules determinator matrix for every test row. And makes the labeling according to the maximum value in this matrix.\n",
        "    #ie.([0.2,0.1,0.5,0.7,0.12] --> the row that creates this is labeled as 3).\n",
        "    #result storages the predictions for every row and returned\n",
        "    result = []\n",
        "    for instance in test_df.values:\n",
        "        determinator_matrix = [0, 0, 0, 0, 0]\n",
        "\n",
        "        for i in range(len(determinator_matrix)):\n",
        "            determinator_matrix[i] = math.log(calc_prior(i))\n",
        "\n",
        "        zero_predictor_matrix = np.log(np.divide(zero_wordsums, zero_totalsum))\n",
        "        one_predictor_matrix = np.log(np.divide(one_wordsums, one_totalsum))\n",
        "        two_predictor_matrix = np.log(np.divide(two_wordsums, two_totalsum))\n",
        "        three_predictor_matrix = np.log(np.divide(three_wordsums, three_totalsum))\n",
        "        four_predictor_matrix = np.log(np.divide(four_wordsums, four_totalsum))\n",
        "\n",
        "        zero_predictor_matrix[np.isneginf(zero_predictor_matrix)] = -1e+12\n",
        "        one_predictor_matrix[np.isneginf(one_predictor_matrix)] = -1e+12\n",
        "        two_predictor_matrix[np.isneginf(two_predictor_matrix)] = -1e+12\n",
        "        three_predictor_matrix[np.isneginf(three_predictor_matrix)] = -1e+12\n",
        "        four_predictor_matrix[np.isneginf(four_predictor_matrix)] = -1e+12\n",
        "\n",
        "        determinator_matrix[0] += np.sum(instance * zero_predictor_matrix)\n",
        "        determinator_matrix[1] += np.sum(instance * one_predictor_matrix)\n",
        "        determinator_matrix[2] += np.sum(instance * two_predictor_matrix)\n",
        "        determinator_matrix[3] += np.sum(instance * three_predictor_matrix)\n",
        "        determinator_matrix[4] += np.sum(instance * four_predictor_matrix)\n",
        "\n",
        "        predicted_class = np.argmax(determinator_matrix)\n",
        "\n",
        "        if np.count_nonzero(determinator_matrix == max(determinator_matrix)) > 1:\n",
        "            # If there is a tie, choose the first class\n",
        "            result.append(np.where(determinator_matrix == max(determinator_matrix))[0][0])\n",
        "        else:\n",
        "            result.append(predicted_class)\n",
        "\n",
        "    return np.array(result)\n"
      ],
      "metadata": {
        "id": "w1lf3WlLCbFv"
      },
      "execution_count": 29,
      "outputs": []
    },
    {
      "cell_type": "code",
      "source": [
        "def calc_confmatrix(predict, true):\n",
        "    #It is given with the output of a predictor function and compares it to the true labels and returns a confusion matrix\n",
        "    conf_matrix = np.zeros((5,5))\n",
        "    data = np.hstack((predict,true))\n",
        "    for predict,true in zip(predict,true):\n",
        "        conf_matrix[predict-1][true-1] += 1\n",
        "    return conf_matrix\n",
        "\n"
      ],
      "metadata": {
        "id": "GHuID7oyUlwK"
      },
      "execution_count": 30,
      "outputs": []
    },
    {
      "cell_type": "code",
      "source": [
        "prediction = predict(df_x_test).reshape((557))\n",
        "true = df_y_test.values.reshape((557))\n",
        "\n",
        "confusion_matrix1 = calc_confmatrix(prediction,true)\n",
        "confusion_matrix1"
      ],
      "metadata": {
        "colab": {
          "base_uri": "https://localhost:8080/"
        },
        "id": "VWwXAG0bCX3g",
        "outputId": "70dc2a0d-ad93-4e9d-cec5-c2a3d99818e8"
      },
      "execution_count": 31,
      "outputs": [
        {
          "output_type": "stream",
          "name": "stderr",
          "text": [
            "<ipython-input-29-f519483b1d82>:10: RuntimeWarning: divide by zero encountered in log\n",
            "  zero_predictor_matrix = np.log(np.divide(zero_wordsums, zero_totalsum))\n",
            "<ipython-input-29-f519483b1d82>:11: RuntimeWarning: divide by zero encountered in log\n",
            "  one_predictor_matrix = np.log(np.divide(one_wordsums, one_totalsum))\n",
            "<ipython-input-29-f519483b1d82>:12: RuntimeWarning: divide by zero encountered in log\n",
            "  two_predictor_matrix = np.log(np.divide(two_wordsums, two_totalsum))\n",
            "<ipython-input-29-f519483b1d82>:13: RuntimeWarning: divide by zero encountered in log\n",
            "  three_predictor_matrix = np.log(np.divide(three_wordsums, three_totalsum))\n",
            "<ipython-input-29-f519483b1d82>:14: RuntimeWarning: divide by zero encountered in log\n",
            "  four_predictor_matrix = np.log(np.divide(four_wordsums, four_totalsum))\n"
          ]
        },
        {
          "output_type": "execute_result",
          "data": {
            "text/plain": [
              "array([[ 92.,   1.,   0.,   2.,   1.],\n",
              "       [  2.,  90.,   0.,   0.,   5.],\n",
              "       [  0.,   0., 133.,   0.,   1.],\n",
              "       [  8.,   4.,   0.,  86.,   2.],\n",
              "       [  0.,   3.,   1.,   0., 126.]])"
            ]
          },
          "metadata": {},
          "execution_count": 31
        }
      ]
    },
    {
      "cell_type": "markdown",
      "source": [
        "Calculate Accuracy;"
      ],
      "metadata": {
        "id": "MHyrRiR2C2aD"
      }
    },
    {
      "cell_type": "code",
      "source": [
        "accuracy1 = np.trace(confusion_matrix1)/np.sum(confusion_matrix1)\n",
        "accuracy1"
      ],
      "metadata": {
        "colab": {
          "base_uri": "https://localhost:8080/"
        },
        "id": "Ko60x5kWC4y8",
        "outputId": "9e470782-e305-4e80-9b3f-97d6279449d4"
      },
      "execution_count": 32,
      "outputs": [
        {
          "output_type": "execute_result",
          "data": {
            "text/plain": [
              "0.9461400359066428"
            ]
          },
          "metadata": {},
          "execution_count": 32
        }
      ]
    },
    {
      "cell_type": "markdown",
      "source": [
        "#Question 3.3"
      ],
      "metadata": {
        "id": "Wg2T1z606FCm"
      }
    },
    {
      "cell_type": "markdown",
      "source": [
        "By utilizing a smoothing operator, repeat the same procedure."
      ],
      "metadata": {
        "id": "lKN2fiMD6MAq"
      }
    },
    {
      "cell_type": "code",
      "source": [
        "def predict2(test_df):\n",
        "    #it is similar to the previous prediction function, only smoothing added\n",
        "    vocab_len = len(df_x_test.columns)\n",
        "    result = []\n",
        "    for instance in test_df.values:\n",
        "        determinator_matrix = [0, 0, 0, 0, 0]\n",
        "\n",
        "        for i in range(len(determinator_matrix)):\n",
        "            determinator_matrix[i] = math.log(calc_prior(i))\n",
        "\n",
        "        zero_predictor_matrix = np.log(np.divide(np.array(zero_wordsums) + 1, np.array(zero_totalsum) + vocab_len))\n",
        "        one_predictor_matrix = np.log(np.divide(np.array(one_wordsums) + 1, np.array(one_totalsum) + vocab_len))\n",
        "        two_predictor_matrix = np.log(np.divide(np.array(two_wordsums) + 1, np.array(two_totalsum) + vocab_len))\n",
        "        three_predictor_matrix = np.log(np.divide(np.array(three_wordsums) + 1, np.array(three_totalsum) + vocab_len))\n",
        "        four_predictor_matrix = np.log(np.divide(np.array(four_wordsums) + 1, np.array(four_totalsum) + vocab_len))\n",
        "\n",
        "        zero_predictor_matrix[np.isneginf(zero_predictor_matrix)] = -1e+12\n",
        "        one_predictor_matrix[np.isneginf(one_predictor_matrix)] = -1e+12\n",
        "        two_predictor_matrix[np.isneginf(two_predictor_matrix)] = -1e+12\n",
        "        three_predictor_matrix[np.isneginf(three_predictor_matrix)] = -1e+12\n",
        "        four_predictor_matrix[np.isneginf(four_predictor_matrix)] = -1e+12\n",
        "\n",
        "        determinator_matrix[0] += np.sum(instance * zero_predictor_matrix)\n",
        "        determinator_matrix[1] += np.sum(instance * one_predictor_matrix)\n",
        "        determinator_matrix[2] += np.sum(instance * two_predictor_matrix)\n",
        "        determinator_matrix[3] += np.sum(instance * three_predictor_matrix)\n",
        "        determinator_matrix[4] += np.sum(instance * four_predictor_matrix)\n",
        "\n",
        "        predicted_class = np.argmax(determinator_matrix)\n",
        "\n",
        "        if np.count_nonzero(determinator_matrix == max(determinator_matrix)) > 1:\n",
        "            # If there is a tie, choose the first class\n",
        "            result.append(np.where(determinator_matrix == max(determinator_matrix))[0][0])\n",
        "        else:\n",
        "            result.append(predicted_class)\n",
        "\n",
        "    return np.array(result)"
      ],
      "metadata": {
        "id": "v4TRo60v5weS"
      },
      "execution_count": 33,
      "outputs": []
    },
    {
      "cell_type": "markdown",
      "source": [
        "Now predict accordingly;"
      ],
      "metadata": {
        "id": "D7CdnHaA81Ud"
      }
    },
    {
      "cell_type": "code",
      "source": [
        "prediction2 = predict2(df_x_test)\n",
        "prediction2 = prediction2.tolist()\n",
        "\n",
        "confusion_matrix2 = calc_confmatrix(prediction2, true)\n",
        "confusion_matrix2"
      ],
      "metadata": {
        "colab": {
          "base_uri": "https://localhost:8080/"
        },
        "id": "3WdsA6UG80xl",
        "outputId": "a10e8a57-94b3-4d9a-ad85-90896fa87bf4"
      },
      "execution_count": 34,
      "outputs": [
        {
          "output_type": "execute_result",
          "data": {
            "text/plain": [
              "array([[ 97.,   0.,   0.,   0.,   0.],\n",
              "       [  0.,  96.,   1.,   0.,   2.],\n",
              "       [  0.,   0., 133.,   0.,   0.],\n",
              "       [  5.,   1.,   0.,  87.,   2.],\n",
              "       [  0.,   1.,   0.,   1., 131.]])"
            ]
          },
          "metadata": {},
          "execution_count": 34
        }
      ]
    },
    {
      "cell_type": "markdown",
      "source": [
        "Calculate Accuracy;"
      ],
      "metadata": {
        "id": "irW0yWbGCwxC"
      }
    },
    {
      "cell_type": "code",
      "source": [
        "accuracy2 = np.trace(confusion_matrix2)/np.sum(confusion_matrix2)\n",
        "accuracy2"
      ],
      "metadata": {
        "colab": {
          "base_uri": "https://localhost:8080/"
        },
        "id": "M2kF9y7uCwL-",
        "outputId": "665ddd65-ace4-49cd-e11e-5fb876484cb8"
      },
      "execution_count": 35,
      "outputs": [
        {
          "output_type": "execute_result",
          "data": {
            "text/plain": [
              "0.9766606822262118"
            ]
          },
          "metadata": {},
          "execution_count": 35
        }
      ]
    },
    {
      "cell_type": "markdown",
      "source": [
        "#Question 3.4"
      ],
      "metadata": {
        "id": "_1HKII2UHvGm"
      }
    },
    {
      "cell_type": "markdown",
      "source": [
        "Let's do bernoulli documentation version;"
      ],
      "metadata": {
        "id": "ZDioiu7PHx-s"
      }
    },
    {
      "cell_type": "markdown",
      "source": [
        "As I was writing the estimator generator function, I calculated the binomial estimatiors. Let's remember them."
      ],
      "metadata": {
        "id": "8LupnZ_JH-Ev"
      }
    },
    {
      "cell_type": "code",
      "source": [
        "#zero_bernoulli --> index0 (95) denotes that \"ad\" word occured in 95 documents (except multiple occurences)"
      ],
      "metadata": {
        "id": "xeIS8hqmHLyG"
      },
      "execution_count": 36,
      "outputs": []
    },
    {
      "cell_type": "code",
      "source": [
        "def predict3(test_df):\n",
        "    #prediction of bernoulli document type modeling\n",
        "    result = []\n",
        "    vocab_len = len(df_x_test.columns)\n",
        "    bin_test = np.where(df_x_test.values!=0,1,0)\n",
        "    for instance in bin_test:\n",
        "        determinator_matrix = [0, 0, 0, 0, 0]\n",
        "        for i in range(len(determinator_matrix)):\n",
        "            determinator_matrix[i] = math.log(calc_prior(i))\n",
        "\n",
        "        zero_predictor_matrix = np.divide(np.array(zero_bernoulli)+1,np.array(np.count_nonzero(df_y_train==0)+2))\n",
        "        one_predictor_matrix = np.divide(np.array(one_bernoulli)+1,np.array(np.count_nonzero(df_y_train==1)+2))\n",
        "        two_predictor_matrix = np.divide(np.array(two_bernoulli)+1,np.array(np.count_nonzero(df_y_train==2)+2))\n",
        "        three_predictor_matrix = np.divide(np.array(three_bernoulli)+1,np.array(np.count_nonzero(df_y_train==3)+2))\n",
        "        four_predictor_matrix = np.divide(np.array(four_bernoulli)+1,np.array(np.count_nonzero(df_y_train==4)+2))\n",
        "\n",
        "        zero_predictor_matrix[np.isneginf(zero_predictor_matrix)] = -1e+12\n",
        "        one_predictor_matrix[np.isneginf(one_predictor_matrix)] = -1e+12\n",
        "        two_predictor_matrix[np.isneginf(two_predictor_matrix)] = -1e+12\n",
        "        three_predictor_matrix[np.isneginf(three_predictor_matrix)] = -1e+12\n",
        "        four_predictor_matrix[np.isneginf(four_predictor_matrix)] = -1e+12\n",
        "\n",
        "        determinator_matrix[0] += np.log(np.product((instance * zero_predictor_matrix + (1 - instance) * (1 - zero_predictor_matrix)),axis=0))\n",
        "        determinator_matrix[1] += np.log(np.product((instance * one_predictor_matrix + (1 - instance) * (1 - one_predictor_matrix)),axis=0))\n",
        "        determinator_matrix[2] += np.log(np.product((instance * two_predictor_matrix +  (1 - instance) * (1 - two_predictor_matrix)),axis=0))\n",
        "        determinator_matrix[3] += np.log(np.product((instance * three_predictor_matrix + (1 - instance) * (1 - three_predictor_matrix)),axis=0))\n",
        "        determinator_matrix[4] += np.log(np.product((instance * four_predictor_matrix + (1 - instance) * (1 - four_predictor_matrix)),axis=0))\n",
        "\n",
        "        predicted_class = np.argmax(determinator_matrix)\n",
        "\n",
        "        if np.count_nonzero(determinator_matrix == max(determinator_matrix)) > 1:\n",
        "            # If there is a tie, choose the first class\n",
        "            result.append(np.where(determinator_matrix == max(determinator_matrix))[0][0])\n",
        "        else:\n",
        "            result.append(predicted_class)\n",
        "\n",
        "    return np.array(result)"
      ],
      "metadata": {
        "id": "5a8sy2hmJYTs"
      },
      "execution_count": 84,
      "outputs": []
    },
    {
      "cell_type": "markdown",
      "source": [
        "Now predict accordingly;"
      ],
      "metadata": {
        "id": "t8GdeZudqBrZ"
      }
    },
    {
      "cell_type": "code",
      "source": [
        "prediction3 = predict3(df_x_test)\n",
        "prediction3 = prediction3.tolist()\n",
        "\n",
        "confusion_matrix3 = calc_confmatrix(prediction3, true)\n",
        "confusion_matrix3"
      ],
      "metadata": {
        "id": "SNrdEh0uaB2Q",
        "colab": {
          "base_uri": "https://localhost:8080/"
        },
        "outputId": "d9170c35-2945-4f44-cf75-c20073b6d8e0"
      },
      "execution_count": 80,
      "outputs": [
        {
          "output_type": "stream",
          "name": "stderr",
          "text": [
            "<ipython-input-79-48ba0a98e3a6>:23: RuntimeWarning: divide by zero encountered in log\n",
            "  determinator_matrix[0] += np.log(np.product((instance * zero_predictor_matrix + (1 - instance) * (1 - zero_predictor_matrix)),axis=0))\n",
            "<ipython-input-79-48ba0a98e3a6>:24: RuntimeWarning: divide by zero encountered in log\n",
            "  determinator_matrix[1] += np.log(np.product((instance * one_predictor_matrix + (1 - instance) * (1 - one_predictor_matrix)),axis=0))\n",
            "<ipython-input-79-48ba0a98e3a6>:25: RuntimeWarning: divide by zero encountered in log\n",
            "  determinator_matrix[2] += np.log(np.product((instance * two_predictor_matrix +  (1 - instance) * (1 - two_predictor_matrix)),axis=0))\n",
            "<ipython-input-79-48ba0a98e3a6>:26: RuntimeWarning: divide by zero encountered in log\n",
            "  determinator_matrix[3] += np.log(np.product((instance * three_predictor_matrix + (1 - instance) * (1 - three_predictor_matrix)),axis=0))\n",
            "<ipython-input-79-48ba0a98e3a6>:27: RuntimeWarning: divide by zero encountered in log\n",
            "  determinator_matrix[4] += np.log(np.product((instance * four_predictor_matrix + (1 - instance) * (1 - four_predictor_matrix)),axis=0))\n"
          ]
        },
        {
          "output_type": "execute_result",
          "data": {
            "text/plain": [
              "array([[ 91.,   0.,   0.,   2.,   0.],\n",
              "       [  0.,  88.,   0.,   0.,   1.],\n",
              "       [  0.,   0., 127.,   0.,   0.],\n",
              "       [  2.,   0.,   0.,  69.,   0.],\n",
              "       [  9.,  10.,   7.,  17., 134.]])"
            ]
          },
          "metadata": {},
          "execution_count": 80
        }
      ]
    },
    {
      "cell_type": "markdown",
      "source": [
        "Accuracy is;"
      ],
      "metadata": {
        "id": "iG4QCdhIqChQ"
      }
    },
    {
      "cell_type": "code",
      "source": [
        "accuracy3 = np.trace(confusion_matrix3)/np.sum(confusion_matrix3)\n",
        "accuracy3"
      ],
      "metadata": {
        "colab": {
          "base_uri": "https://localhost:8080/"
        },
        "id": "eQUwl2pWfAZO",
        "outputId": "70a2f346-c78d-47f0-d779-bbaccb26692b"
      },
      "execution_count": 85,
      "outputs": [
        {
          "output_type": "execute_result",
          "data": {
            "text/plain": [
              "0.9138240574506283"
            ]
          },
          "metadata": {},
          "execution_count": 85
        }
      ]
    }
  ]
}